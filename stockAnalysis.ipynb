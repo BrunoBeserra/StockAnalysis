{
  "cells": [
    {
      "cell_type": "markdown",
      "metadata": {
        "id": "f7qU45uAUxZO"
      },
      "source": [
        "# Stock Analysis Project"
      ]
    },
    {
      "cell_type": "code",
      "execution_count": 1,
      "metadata": {
        "id": "W-PVmnY5JUfV"
      },
      "outputs": [],
      "source": [
        "import yfinance as yf\n",
        "import datetime as dt\n",
        "from pyspark.sql import SparkSession\n",
        "import pyspark.sql.functions as f\n",
        "from pyspark.sql.window import Window\n",
        "from google.colab import drive\n",
        "import os"
      ]
    },
    {
      "cell_type": "code",
      "execution_count": 2,
      "metadata": {
        "colab": {
          "base_uri": "https://localhost:8080/"
        },
        "id": "PWAmcy9BJae8",
        "outputId": "f95469e3-0b11-4f51-dafd-a12d4766759a"
      },
      "outputs": [
        {
          "name": "stdout",
          "output_type": "stream",
          "text": [
            "Mounted at /content/gdrive\n"
          ]
        }
      ],
      "source": [
        "# Mount gDrive Folder\n",
        "drive.mount('/content/gdrive', force_remount=True)\n",
        "!ln -s /content/drive/MyDrive/ccl"
      ]
    },
    {
      "cell_type": "code",
      "execution_count": null,
      "metadata": {
        "id": "7X1qOkU8LBtA"
      },
      "outputs": [],
      "source": [
        "# Defining paths to data layers\n",
        "bronze_path = '/bronze_path'\n",
        "silver_path = '/silver_path'\n",
        "gold_path = '/gold_path'\n",
        "\n",
        "if not os.path.exists(bronze_path):\n",
        "  os.makedirs(bronze_path)\n",
        "if not os.path.exists(silver_path):\n",
        "  os.makedirs(silver_path)\n",
        "if not os.path.exists(gold_path):\n",
        "  os.makedirs(gold_path)\n",
        "\n",
        "# Defining tickers I'll work with\n",
        "tickers = ['CM.TO', 'TD.TO', 'BNS.TO', 'BMO.TO', 'RY.TO']\n",
        "# Start Date (YYYY-MM-DD)\n",
        "start_date = '2020-01-01'\n",
        "# End Date (YYYY-MM-DD)\n",
        "end_date = '2025-04-07'"
      ]
    },
    {
      "cell_type": "code",
      "execution_count": 3,
      "metadata": {
        "id": "jRzzTkWoJdst"
      },
      "outputs": [],
      "source": [
        "class StockDataFunctions:\n",
        "  # Constructor\n",
        "  def __init__(self, spark=None):\n",
        "    if spark is None:\n",
        "        self.spark = SparkSession.builder \\\n",
        "            .appName(\"stockAnalysis\") \\\n",
        "            .getOrCreate()\n",
        "    else:\n",
        "        self.spark = spark\n",
        "\n",
        "    self.data = {}\n",
        "\n",
        "  # Function to fetch stocks based on ticker, start date and end date\n",
        "  def fetch_stock(self, tickers, start_date, end_date):\n",
        "\n",
        "    # Transform single string values into a list\n",
        "    if isinstance(tickers, str):\n",
        "      tickers = [tickers]\n",
        "\n",
        "    # Define default values\n",
        "    if not start_date or not end_date:\n",
        "      if not start_date:\n",
        "        start_date = (dt.datetime.now() - dt.timedelta(days=365)).strftime(\"%Y-%m-%d\")\n",
        "      if not end_date:\n",
        "        end_date = dt.datetime.now().strftime(\"%Y-%m-%d\")\n",
        "\n",
        "    # Fetch data for each ticker\n",
        "    for each in tickers:\n",
        "      ticker = yf.Ticker(each)\n",
        "      df = ticker.history(start=start_date, end=end_date)\n",
        "      df = df.reset_index()\n",
        "      spark_df = self.spark.createDataFrame(df)\n",
        "      spark_df = spark_df.withColumn(\"ticker\", f.lit(each))\n",
        "      self.data[each] = spark_df\n",
        "\n",
        "    return self.data\n",
        "\n",
        "  # Function to transform bronze data into silver (i.e. first transformations to become more readable)\n",
        "  def create_silver(self, df):\n",
        "    df_silver = df\\\n",
        "    .withColumnRenamed(\"Date\", \"book_date\")\\\n",
        "    .withColumnRenamed(\"Open\", \"open\")\\\n",
        "    .withColumnRenamed(\"High\", \"high\")\\\n",
        "    .withColumnRenamed(\"Low\", \"low\")\\\n",
        "    .withColumnRenamed(\"Close\", \"close\")\\\n",
        "    .withColumnRenamed(\"Dividends\", \"dividends\")\\\n",
        "    .withColumnRenamed(\"Volume\", \"volume\")\\\n",
        "    .withColumn(\"book_date\", f.col(\"book_date\").cast(\"date\"))\\\n",
        "    .withColumn(\"open\", f.round(f.col(\"open\"), 4))\\\n",
        "    .withColumn(\"high\", f.round(f.col(\"high\"), 4))\\\n",
        "    .withColumn(\"low\", f.round(f.col(\"low\"), 4))\\\n",
        "    .withColumn(\"close\", f.round(f.col(\"close\"), 4))\\\n",
        "    .withColumn(\"volume\", f.when(f.col(\"volume\").isNull(), 0).otherwise(f.col(\"volume\")))\n",
        "    return df_silver\n",
        "\n",
        "  # Function to transform silver data into gold (final dataset for the visualization)\n",
        "  def create_gold(self, df):\n",
        "    # Create window for analysis\n",
        "    window = Window.orderBy(\"book_date\")\n",
        "    window_month = Window.orderBy(\"book_date\").rowsBetween(-21, 0)\n",
        "    window_anual = Window.orderBy(\"book_date\").rowsBetween(-252, 0)\n",
        "    window_50d = Window.orderBy(\"book_date\").rowsBetween(-50, 0)\n",
        "    window_200d = Window.orderBy(\"book_date\").rowsBetween(-200, 0)\n",
        "    window_vwap = Window.orderBy(\"book_date\").rowsBetween(Window.unboundedPreceding, 0)\n",
        "\n",
        "    # Update dataset\n",
        "    df_gold = df\\\n",
        "      .withColumn(\"average_price\", f.round((f.col(\"open\") + f.col(\"high\") + f.col(\"low\") + f.col(\"close\")) / f.lit(4.0), 4))\\\n",
        "      .withColumn(\"previous_close\", f.lag(\"Close\", 1).over(window))\\\n",
        "      .withColumn(\"price_change\", f.round(f.col(\"Close\") - f.col(\"previous_close\"), 4))\\\n",
        "      .withColumn(\"daily_return_percentage\", f.round(((f.col(\"price_change\"))/ f.col(\"previous_close\"))*100, 4))\\\n",
        "      .withColumn(\"daily_return_percentage\", f.when(f.col(\"daily_return_percentage\").isNull(), f.lit(0)).otherwise(f.col(\"daily_return_percentage\")))\\\n",
        "      .withColumn(\"growth\", f.round((f.col(\"daily_return_percentage\")/100 + 1), 4))\\\n",
        "      .withColumn(\"cumulative_growth\", f.round(f.expr(\"exp(sum(log(growth)) over (ORDER BY book_date ROWS BETWEEN UNBOUNDED PRECEDING AND CURRENT ROW)) - 1\"), 4))\\\n",
        "      .withColumn(\"volatility_30days\", f.round(f.stddev(f.col(\"daily_return_percentage\")).over(window_month), 4))\\\n",
        "      .withColumn(\"mov_avg30\", f.round(f.avg(f.col(\"Close\")).over(window_month), 4))\\\n",
        "      .withColumn(\"dividend_yield_percentage\", f.round((f.sum(f.col(\"Dividends\")).over(window_anual)/f.col(\"Close\")), 4))\\\n",
        "      .withColumn(\"52week_high\", f.max(f.col(\"High\")).over(window_anual))\\\n",
        "      .withColumn(\"52week_low\", f.min(f.col(\"Low\")).over(window_anual))\\\n",
        "      .withColumn(\"ma50d\", f.round(f.avg(f.col(\"Close\")).over(window_50d), 4))\\\n",
        "      .withColumn(\"ma200d\", f.round(f.avg(f.col(\"Close\")).over(window_200d), 4))\\\n",
        "      .withColumn(\"price_volume\", f.round(f.col(\"average_price\") * f.col(\"Volume\"), 4))\\\n",
        "      .withColumn(\"cumulative_price_volume\", f.round(f.sum(\"price_volume\").over(window_vwap), 4))\\\n",
        "      .withColumn(\"cumulative_volume\", f.round(f.sum(\"Volume\").over(window_vwap), 4))\\\n",
        "      .withColumn(\"vwap\", f.round(f.col(\"cumulative_price_volume\") / f.col(\"cumulative_volume\"), 4))\n",
        "    df_gold = df_gold.drop(\"Stock Splits\",\"previous_close\", \"mov_avg30\", \"price_change\", \"price_volume\", \"cumulative_price_volume\", \"cumulative_volume\")\n",
        "    return df_gold\n",
        "\n",
        "  # Function to save raw data into bronze data lake\n",
        "  def save_bronze(self, path):\n",
        "    for ticker, df in self.data.items():\n",
        "      df.write.mode(\"overwrite\").option(\"header\", \"true\").csv(f\"{path}/{ticker}_bronze.csv\")\n",
        "\n",
        "  # Read bronze dataframe\n",
        "  def read_bronze(self, ticker, path):\n",
        "    df_bronze = self.spark.read\\\n",
        "      .option(\"header\", \"true\")\\\n",
        "      .option(\"inferSchema\", \"true\")\\\n",
        "      .csv(path + '/' + ticker + '_bronze.csv')\n",
        "    self.data[ticker] = df_bronze\n",
        "\n",
        "  # Read parquet data\n",
        "  def read_parquet(self, tickers, path):\n",
        "\n",
        "    # Transform single string values into a list\n",
        "    if isinstance(tickers, str):\n",
        "      tickers = [tickers]\n",
        "\n",
        "    # Read data for each ticker\n",
        "    for ticker in tickers:\n",
        "      df = self.spark.read.parquet(f\"{path}/{ticker}/\")\n",
        "      self.data[ticker] = df\n",
        "\n",
        "  # Function to save parquet data\n",
        "  def save_parquet(self, dicts, path):\n",
        "    for ticker, df in dicts.items():\n",
        "      df.write.mode(\"overwrite\").parquet(f\"{path}/{ticker}/\")\n",
        "\n"
      ]
    },
    {
      "cell_type": "code",
      "execution_count": 4,
      "metadata": {
        "id": "lPVvYFG-Pc_f"
      },
      "outputs": [],
      "source": [
        "# Create Sample Bronze File\n",
        "stock_fetcher = StockDataFunctions()\n",
        "stock_fetcher.fetch_stock(tickers, start_date, end_date)\n",
        "stock_fetcher.save_bronze(bronze_path)"
      ]
    },
    {
      "cell_type": "markdown",
      "metadata": {
        "id": "xBCKkT4fUpAu"
      },
      "source": [
        "Read Bronze File from folder and creating Silver File"
      ]
    },
    {
      "cell_type": "code",
      "execution_count": 5,
      "metadata": {
        "colab": {
          "base_uri": "https://localhost:8080/"
        },
        "id": "-ANiHA3mUowu",
        "outputId": "7c2d29b0-3e58-4960-8776-52f04bbf3b28"
      },
      "outputs": [
        {
          "name": "stdout",
          "output_type": "stream",
          "text": [
            "root\n",
            " |-- Date: timestamp (nullable = true)\n",
            " |-- Open: double (nullable = true)\n",
            " |-- High: double (nullable = true)\n",
            " |-- Low: double (nullable = true)\n",
            " |-- Close: double (nullable = true)\n",
            " |-- Volume: integer (nullable = true)\n",
            " |-- Dividends: double (nullable = true)\n",
            " |-- Stock Splits: double (nullable = true)\n",
            " |-- ticker: string (nullable = true)\n",
            "\n"
          ]
        }
      ],
      "source": [
        "# Read bronze dataframe\n",
        "for ticker in tickers:\n",
        "  df_bronze = stock_fetcher.read_bronze(ticker, bronze_path)\n",
        "stock_fetcher.data[\"BMO.TO\"].printSchema()"
      ]
    },
    {
      "cell_type": "code",
      "execution_count": 7,
      "metadata": {
        "colab": {
          "base_uri": "https://localhost:8080/"
        },
        "id": "L6wB36tCnGWW",
        "outputId": "f121a053-6a8f-471b-c208-2505cfac392c"
      },
      "outputs": [
        {
          "name": "stdout",
          "output_type": "stream",
          "text": [
            "+-------------------+------------------+------------------+------------------+------------------+-------+---------+------------+------+\n",
            "|               Date|              Open|              High|               Low|             Close| Volume|Dividends|Stock Splits|ticker|\n",
            "+-------------------+------------------+------------------+------------------+------------------+-------+---------+------------+------+\n",
            "|2022-08-18 04:00:00|119.55279194373115|120.84022614767434|119.20651999421538| 120.3696517944336|1321900|      0.0|         0.0|BMO.TO|\n",
            "|2022-08-19 04:00:00|120.14767879176954|120.29861645281099|118.75370358129673|118.87800598144531|2032100|      0.0|         0.0|BMO.TO|\n",
            "|2022-08-22 04:00:00| 117.5195783181215|117.79481843747472|117.06676523930962| 117.2354507446289|2407900|      0.0|         0.0|BMO.TO|\n",
            "|2022-08-23 04:00:00|116.99572231139473|117.00459621674878|115.82371650319897|116.44522857666016|1711900|      0.0|         0.0|BMO.TO|\n",
            "|2022-08-24 04:00:00|115.73492505311397|116.34754961106292|114.37647253480216|114.59844207763672|2827600|      0.0|         0.0|BMO.TO|\n",
            "|2022-08-25 04:00:00|114.90031790646051|116.01903952997463|114.53628460311417|114.98909759521484|1774800|      0.0|         0.0|BMO.TO|\n",
            "|2022-08-26 04:00:00|115.33536916848537|116.04567441595081|113.62177079887276|114.11898040771484|1905300|      0.0|         0.0|BMO.TO|\n",
            "|2022-08-29 04:00:00|112.98248971208037|113.61288235850094|112.52079607455136|113.44418334960938|1939600|      0.0|         0.0|BMO.TO|\n",
            "|2022-08-30 04:00:00|111.69508462737242|111.96144403338059|110.27447403276884| 110.5319595336914|2275800|      0.0|         0.0|BMO.TO|\n",
            "|2022-08-31 04:00:00|109.30668933875762|109.99035259469355|107.55756814339746|107.65523529052734|3807700|      0.0|         0.0|BMO.TO|\n",
            "|2022-09-01 04:00:00|107.20241451825711| 107.7972980746102|105.97714501177684|107.67298889160156|2558600|      0.0|         0.0|BMO.TO|\n",
            "|2022-09-02 04:00:00|108.74732753517026|109.73286612884667| 107.7173855468623|108.12580871582031|1623200|      0.0|         0.0|BMO.TO|\n",
            "|2022-09-06 04:00:00|108.58750225372489| 108.8005911165431| 106.3589261635883|106.98931884765625|2577100|      0.0|         0.0|BMO.TO|\n",
            "|2022-09-07 04:00:00|106.54537460339621|108.01925553691665|106.20798335578222| 107.8150405883789|1520500|      0.0|         0.0|BMO.TO|\n",
            "|2022-09-08 04:00:00|107.41551498635597|110.45205701294041|107.07811691186423|110.43429565429688|1597600|      0.0|         0.0|BMO.TO|\n",
            "|2022-09-09 04:00:00|111.02028283226677|113.41755108758778|111.02028283226677|113.15119171142578|1725000|      0.0|         0.0|BMO.TO|\n",
            "|2022-09-12 04:00:00|113.87923669518756| 115.1133866739754|113.82596617851162|114.25214385986328|2595500|      0.0|         0.0|BMO.TO|\n",
            "|2022-09-13 04:00:00|112.54744385860116|112.74277814874497|111.36656421289405|111.73947143554688|1567500|      0.0|         0.0|BMO.TO|\n",
            "|2022-09-14 04:00:00|112.18339341083492|112.82266670860994|111.23336414163376|112.68948364257812|1560300|      0.0|         0.0|BMO.TO|\n",
            "|2022-09-15 04:00:00|112.63622316628037| 114.5717910391227|  112.449769566804|113.51522064208984|2387300|      0.0|         0.0|BMO.TO|\n",
            "+-------------------+------------------+------------------+------------------+------------------+-------+---------+------------+------+\n",
            "only showing top 20 rows\n",
            "\n"
          ]
        }
      ],
      "source": [
        "stock_fetcher.data['BMO.TO'].show()"
      ]
    },
    {
      "cell_type": "code",
      "execution_count": 8,
      "metadata": {
        "id": "pXPbbtYRYshH"
      },
      "outputs": [],
      "source": [
        "df_silver = {}\n",
        "for ticker, df in stock_fetcher.data.items():\n",
        "  df_ticker = stock_fetcher.create_silver(df)\n",
        "  df_silver[ticker] = df_ticker"
      ]
    },
    {
      "cell_type": "code",
      "execution_count": 9,
      "metadata": {
        "colab": {
          "base_uri": "https://localhost:8080/"
        },
        "id": "MdkdJvSOZkfg",
        "outputId": "bd08910a-eed5-46b1-ccd8-2fea2269b611"
      },
      "outputs": [
        {
          "name": "stdout",
          "output_type": "stream",
          "text": [
            "+----------+--------+--------+--------+--------+-------+---------+------------+------+\n",
            "| book_date|    open|    high|     low|   close| volume|dividends|Stock Splits|ticker|\n",
            "+----------+--------+--------+--------+--------+-------+---------+------------+------+\n",
            "|2022-08-18|119.5528|120.8402|119.2065|120.3697|1321900|      0.0|         0.0|BMO.TO|\n",
            "|2022-08-19|120.1477|120.2986|118.7537| 118.878|2032100|      0.0|         0.0|BMO.TO|\n",
            "|2022-08-22|117.5196|117.7948|117.0668|117.2355|2407900|      0.0|         0.0|BMO.TO|\n",
            "|2022-08-23|116.9957|117.0046|115.8237|116.4452|1711900|      0.0|         0.0|BMO.TO|\n",
            "|2022-08-24|115.7349|116.3475|114.3765|114.5984|2827600|      0.0|         0.0|BMO.TO|\n",
            "|2022-08-25|114.9003| 116.019|114.5363|114.9891|1774800|      0.0|         0.0|BMO.TO|\n",
            "|2022-08-26|115.3354|116.0457|113.6218| 114.119|1905300|      0.0|         0.0|BMO.TO|\n",
            "|2022-08-29|112.9825|113.6129|112.5208|113.4442|1939600|      0.0|         0.0|BMO.TO|\n",
            "|2022-08-30|111.6951|111.9614|110.2745| 110.532|2275800|      0.0|         0.0|BMO.TO|\n",
            "|2022-08-31|109.3067|109.9904|107.5576|107.6552|3807700|      0.0|         0.0|BMO.TO|\n",
            "|2022-09-01|107.2024|107.7973|105.9771| 107.673|2558600|      0.0|         0.0|BMO.TO|\n",
            "|2022-09-02|108.7473|109.7329|107.7174|108.1258|1623200|      0.0|         0.0|BMO.TO|\n",
            "|2022-09-06|108.5875|108.8006|106.3589|106.9893|2577100|      0.0|         0.0|BMO.TO|\n",
            "|2022-09-07|106.5454|108.0193| 106.208| 107.815|1520500|      0.0|         0.0|BMO.TO|\n",
            "|2022-09-08|107.4155|110.4521|107.0781|110.4343|1597600|      0.0|         0.0|BMO.TO|\n",
            "|2022-09-09|111.0203|113.4176|111.0203|113.1512|1725000|      0.0|         0.0|BMO.TO|\n",
            "|2022-09-12|113.8792|115.1134| 113.826|114.2521|2595500|      0.0|         0.0|BMO.TO|\n",
            "|2022-09-13|112.5474|112.7428|111.3666|111.7395|1567500|      0.0|         0.0|BMO.TO|\n",
            "|2022-09-14|112.1834|112.8227|111.2334|112.6895|1560300|      0.0|         0.0|BMO.TO|\n",
            "|2022-09-15|112.6362|114.5718|112.4498|113.5152|2387300|      0.0|         0.0|BMO.TO|\n",
            "+----------+--------+--------+--------+--------+-------+---------+------------+------+\n",
            "only showing top 20 rows\n",
            "\n"
          ]
        }
      ],
      "source": [
        "df_silver['BMO.TO'].show()"
      ]
    },
    {
      "cell_type": "code",
      "execution_count": 10,
      "metadata": {
        "id": "9wQQjh8gaQvK"
      },
      "outputs": [],
      "source": [
        "# Save Silver File\n",
        "stock_fetcher.save_parquet(df_silver, silver_path)"
      ]
    },
    {
      "cell_type": "markdown",
      "metadata": {
        "id": "HUEEousqhB8_"
      },
      "source": [
        "Read silver tier file, create gold tier, and save gold tier parquet"
      ]
    },
    {
      "cell_type": "code",
      "execution_count": 11,
      "metadata": {
        "colab": {
          "base_uri": "https://localhost:8080/"
        },
        "id": "g3iMoNYGhAhb",
        "outputId": "5e7f7ced-744b-4254-91c0-64bc8edfa0af"
      },
      "outputs": [
        {
          "name": "stdout",
          "output_type": "stream",
          "text": [
            "+----------+-------+-------+-------+-------+-------+---------+------------+------+\n",
            "| book_date|   open|   high|    low|  close| volume|dividends|Stock Splits|ticker|\n",
            "+----------+-------+-------+-------+-------+-------+---------+------------+------+\n",
            "|2020-01-02|41.0723|41.0761|40.8072| 40.989|1896000|      0.0|         0.0| CM.TO|\n",
            "|2020-01-03|40.7164|40.8679|  40.58|40.8527|1918600|      0.0|         0.0| CM.TO|\n",
            "|2020-01-06|40.6595|40.8603|40.6027|40.7277|3684400|      0.0|         0.0| CM.TO|\n",
            "|2020-01-07|40.7656|40.9549|40.6255|40.6482|1965000|      0.0|         0.0| CM.TO|\n",
            "|2020-01-08|40.7277|41.0155|40.7277| 40.883|3719600|      0.0|         0.0| CM.TO|\n",
            "|2020-01-09|41.0686| 41.239|40.7618|40.7618|3672400|      0.0|         0.0| CM.TO|\n",
            "|2020-01-10|40.7618|40.9436|40.6785|40.8224|2924800|      0.0|         0.0| CM.TO|\n",
            "|2020-01-13|  40.83|40.9625|40.6179|40.9587|7989200|      0.0|         0.0| CM.TO|\n",
            "|2020-01-14|41.0421|41.0458|40.7164|40.7315|3132600|      0.0|         0.0| CM.TO|\n",
            "|2020-01-15|40.7126|41.0118|40.6558|40.9777|2186200|      0.0|         0.0| CM.TO|\n",
            "|2020-01-16|41.0648|41.1746|41.0155|41.1292|2334800|      0.0|         0.0| CM.TO|\n",
            "|2020-01-17|41.2352|41.3375|41.0799|41.1935|2500600|      0.0|         0.0| CM.TO|\n",
            "|2020-01-20|41.1367|41.3564|41.0989|41.3564|2371400|      0.0|         0.0| CM.TO|\n",
            "|2020-01-21|41.2807|41.3526|40.9284| 40.955|2930200|      0.0|         0.0| CM.TO|\n",
            "|2020-01-22|40.9436|41.2958|40.8527|41.1746|2343200|      0.0|         0.0| CM.TO|\n",
            "|2020-01-23|41.1254|41.2655|40.9587|41.2655|1811800|      0.0|         0.0| CM.TO|\n",
            "|2020-01-24|41.2769| 41.364|41.1292|41.2617|3184600|      0.0|         0.0| CM.TO|\n",
            "|2020-01-27|40.9019|41.2125|  40.83|41.1898|4760200|      0.0|         0.0| CM.TO|\n",
            "|2020-01-28|41.2466|41.4587|41.1822|41.4511|3144600|      0.0|         0.0| CM.TO|\n",
            "|2020-01-29|  41.47|41.6745|41.3223|41.3791|2603400|      0.0|         0.0| CM.TO|\n",
            "+----------+-------+-------+-------+-------+-------+---------+------------+------+\n",
            "only showing top 20 rows\n",
            "\n",
            "+----------+-------+-------+-------+-------+-------+---------+------------+------+\n",
            "| book_date|   open|   high|    low|  close| volume|dividends|Stock Splits|ticker|\n",
            "+----------+-------+-------+-------+-------+-------+---------+------------+------+\n",
            "|2020-01-02|57.7811|57.9942|57.5601|57.9468|2207900|      0.0|         0.0| TD.TO|\n",
            "|2020-01-03|57.6784|57.9468|57.5443|57.8994|3472900|      0.0|         0.0| TD.TO|\n",
            "|2020-01-06|57.6153|57.9863|57.5837|57.9073|8359000|      0.0|         0.0| TD.TO|\n",
            "|2020-01-07|58.0178|58.1757|57.7889|57.8442|3622600|      0.0|         0.0| TD.TO|\n",
            "|2020-01-08|57.8679|58.5624|57.7968|58.2941|6465500|      0.0|         0.0| TD.TO|\n",
            "|2020-01-09|58.5572|58.6927|58.2462|58.3499|2853100|     0.74|         0.0| TD.TO|\n",
            "|2020-01-10|58.3419|58.3658|58.0629|58.1984|5958500|      0.0|         0.0| TD.TO|\n",
            "|2020-01-13|58.1984|58.3499|57.9672|  58.31|7879600|      0.0|         0.0| TD.TO|\n",
            "|2020-01-14|58.3578|58.3578|58.0788|58.0788|5011200|      0.0|         0.0| TD.TO|\n",
            "|2020-01-15|58.0469|58.5093|57.9194|58.5093|5912400|      0.0|         0.0| TD.TO|\n",
            "|2020-01-16| 58.597|59.1152|58.4934|58.9637|3000000|      0.0|         0.0| TD.TO|\n",
            "|2020-01-17|59.0355|59.3066|58.9319|59.0913|2928500|      0.0|         0.0| TD.TO|\n",
            "|2020-01-20|59.0993|59.3225|59.0355|59.1551|1480200|      0.0|         0.0| TD.TO|\n",
            "|2020-01-21|59.0674|59.0993|58.7644|58.9637|2616900|      0.0|         0.0| TD.TO|\n",
            "|2020-01-22| 58.884|59.3225|58.6847|59.1073|2429300|      0.0|         0.0| TD.TO|\n",
            "|2020-01-23|59.0036|59.1391|58.7804|59.1312|2839300|      0.0|         0.0| TD.TO|\n",
            "|2020-01-24|59.2348|59.4261|58.9717|59.1551|3647200|      0.0|         0.0| TD.TO|\n",
            "|2020-01-27|58.5093|59.0275|58.4057|58.9797|2243800|      0.0|         0.0| TD.TO|\n",
            "|2020-01-28|59.1391|59.2507|58.9239|59.1312|2372700|      0.0|         0.0| TD.TO|\n",
            "|2020-01-29|59.2428|59.5617|58.9956|59.0116|2551800|      0.0|         0.0| TD.TO|\n",
            "+----------+-------+-------+-------+-------+-------+---------+------------+------+\n",
            "only showing top 20 rows\n",
            "\n",
            "+----------+-------+-------+-------+-------+-------+---------+------------+------+\n",
            "| book_date|   open|   high|    low|  close| volume|dividends|Stock Splits|ticker|\n",
            "+----------+-------+-------+-------+-------+-------+---------+------------+------+\n",
            "|2022-08-18|62.0289|62.2492|61.8543|62.1049|2060700|      0.0|         0.0|BNS.TO|\n",
            "|2022-08-19|61.9302|62.1049|61.3532|61.6873|1979300|      0.0|         0.0|BNS.TO|\n",
            "|2022-08-22|61.0722|61.4443| 60.852| 61.338|2120100|      0.0|         0.0|BNS.TO|\n",
            "|2022-08-23|60.6698|60.7077|58.0045|58.1184|5645100|      0.0|         0.0|BNS.TO|\n",
            "|2022-08-24|57.6477|57.6932|56.5694|56.9339|3703000|      0.0|         0.0|BNS.TO|\n",
            "|2022-08-25|56.9491|57.8603|56.7668| 57.473|2963100|      0.0|         0.0|BNS.TO|\n",
            "|2022-08-26|57.6477|57.7768|56.5239|56.7972|2909100|      0.0|         0.0|BNS.TO|\n",
            "|2022-08-29|56.4176|56.5846|56.1442|56.4252|7486400|      0.0|         0.0|BNS.TO|\n",
            "|2022-08-30| 56.782| 56.782|55.5443|55.8481|2322900|      0.0|         0.0|BNS.TO|\n",
            "|2022-08-31|55.8329|55.9164|55.0963|55.1419|4135500|      0.0|         0.0|BNS.TO|\n",
            "|2022-09-01| 54.861|54.9369|53.6612|54.2003|5663800|      0.0|         0.0|BNS.TO|\n",
            "|2022-09-02|54.6332|55.1419|54.0637|54.2231|6315500|      0.0|         0.0|BNS.TO|\n",
            "|2022-09-06|  54.58|54.7243|53.4562|53.6688|7192500|      0.0|         0.0|BNS.TO|\n",
            "|2022-09-07|53.3575|53.9574|53.1145|53.8435|4218800|      0.0|         0.0|BNS.TO|\n",
            "|2022-09-08|53.9498|55.2482|53.6688|55.1343|5318900|      0.0|         0.0|BNS.TO|\n",
            "|2022-09-09|55.6962| 55.924|55.4912| 55.681|4274200|      0.0|         0.0|BNS.TO|\n",
            "|2022-09-12|55.8785|56.3796|55.6203|55.8936|7011600|      0.0|         0.0|BNS.TO|\n",
            "|2022-09-13|55.3165|55.4153|54.4205|54.6787|6192700|      0.0|         0.0|BNS.TO|\n",
            "|2022-09-14|54.8534|54.8989|54.2839|54.5041|5726300|      0.0|         0.0|BNS.TO|\n",
            "|2022-09-15|54.4737| 54.823|54.1092|54.1776|4032400|      0.0|         0.0|BNS.TO|\n",
            "+----------+-------+-------+-------+-------+-------+---------+------------+------+\n",
            "only showing top 20 rows\n",
            "\n",
            "+----------+-------+-------+-------+-------+-------+---------+------------+------+\n",
            "| book_date|   open|   high|    low|  close| volume|dividends|Stock Splits|ticker|\n",
            "+----------+-------+-------+-------+-------+-------+---------+------------+------+\n",
            "|2020-01-02|79.7502|79.7738|79.1266|79.6002| 753600|      0.0|         0.0|BMO.TO|\n",
            "|2020-01-03|79.0082|79.4581|78.7241|79.4029|1473000|      0.0|         0.0|BMO.TO|\n",
            "|2020-01-06|79.0161|79.3634|78.9846|79.3397|1147500|      0.0|         0.0|BMO.TO|\n",
            "|2020-01-07|79.3634|79.7423| 79.174|79.2056| 702000|      0.0|         0.0|BMO.TO|\n",
            "|2020-01-08|79.3397|80.2159| 79.324|79.7818|1088400|      0.0|         0.0|BMO.TO|\n",
            "|2020-01-09|80.1133|80.3264|79.8212|80.0738|1683900|      0.0|         0.0|BMO.TO|\n",
            "|2020-01-10|80.0264|80.1685| 79.687|80.0501|1243400|      0.0|         0.0|BMO.TO|\n",
            "|2020-01-13|80.0501|80.6657|79.8212|80.6657|4100400|      0.0|         0.0|BMO.TO|\n",
            "|2020-01-14|80.6737|81.1235|80.5079|81.0683|1923500|      0.0|         0.0|BMO.TO|\n",
            "|2020-01-15|81.0209|81.4314| 81.013|81.3051|1729600|      0.0|         0.0|BMO.TO|\n",
            "|2020-01-16|81.4393|81.6839|81.3051|81.5813|1809800|      0.0|         0.0|BMO.TO|\n",
            "|2020-01-17|81.6918|81.9681|81.6129|81.9286|1545900|      0.0|         0.0|BMO.TO|\n",
            "|2020-01-20|81.7707|82.4416|81.6918|81.6918|1591500|      0.0|         0.0|BMO.TO|\n",
            "|2020-01-21|81.8891|82.4338|81.6997|82.3548|1384400|      0.0|         0.0|BMO.TO|\n",
            "|2020-01-22|82.3548|82.6784|82.1417|82.4022|1100600|      0.0|         0.0|BMO.TO|\n",
            "|2020-01-23|82.3627|82.5521|81.8576|82.2838|2397400|      0.0|         0.0|BMO.TO|\n",
            "|2020-01-24|82.3548|82.5522|81.9128|82.1023|1888100|      0.0|         0.0|BMO.TO|\n",
            "|2020-01-27|81.3366|81.8023|81.2972|81.6129|4184800|      0.0|         0.0|BMO.TO|\n",
            "|2020-01-28|81.8181|82.1102|81.4472|81.8655|4582100|      0.0|         0.0|BMO.TO|\n",
            "|2020-01-29|81.8339|82.0549|81.5577|81.6839|3678300|      0.0|         0.0|BMO.TO|\n",
            "+----------+-------+-------+-------+-------+-------+---------+------------+------+\n",
            "only showing top 20 rows\n",
            "\n",
            "+----------+-------+-------+-------+-------+-------+---------+------------+------+\n",
            "| book_date|   open|   high|    low|  close| volume|dividends|Stock Splits|ticker|\n",
            "+----------+-------+-------+-------+-------+-------+---------+------------+------+\n",
            "|2020-01-02|83.8762|84.1604|83.5514|84.0873|1354100|      0.0|         0.0| RY.TO|\n",
            "|2020-01-03|83.5513|84.0304|83.3646|83.7787|3199000|      0.0|         0.0| RY.TO|\n",
            "|2020-01-06|83.4295|83.8112|83.3889| 83.795|3139000|      0.0|         0.0| RY.TO|\n",
            "|2020-01-07|84.0061|84.2172|83.7381|83.8275|1289100|      0.0|         0.0| RY.TO|\n",
            "|2020-01-08|83.8112|84.8669|83.7462|84.4933|4035100|      0.0|         0.0| RY.TO|\n",
            "|2020-01-09|84.8587|85.1429|84.6314|84.8019|2540600|      0.0|         0.0| RY.TO|\n",
            "|2020-01-10|84.6963|84.9481|84.4121|84.6963|2230900|      0.0|         0.0| RY.TO|\n",
            "|2020-01-13|84.9156| 85.078|84.4121|85.0293|6241400|      0.0|         0.0| RY.TO|\n",
            "|2020-01-14|85.1186|85.4921|84.9724|85.3054|4430700|      0.0|         0.0| RY.TO|\n",
            "|2020-01-15|85.2648|85.6302|85.1998|85.6302|2607300|      0.0|         0.0| RY.TO|\n",
            "|2020-01-16|85.7114|86.4828|85.6708|86.1986|2048300|      0.0|         0.0| RY.TO|\n",
            "|2020-01-17|86.4828|86.6859| 86.288|86.5234|4172300|      0.0|         0.0| RY.TO|\n",
            "|2020-01-20| 86.564|87.1081|86.5478|86.9376|1978900|      0.0|         0.0| RY.TO|\n",
            "|2020-01-21|87.0106|87.0756|86.6127|86.7183|7447100|      0.0|         0.0| RY.TO|\n",
            "|2020-01-22| 86.832|87.0838|86.4422|86.6696|4587700|      0.0|         0.0| RY.TO|\n",
            "|2020-01-23| 86.564|87.1406|86.4016|87.1406|5277300|      0.0|         0.0| RY.TO|\n",
            "|2020-01-24| 87.075| 87.444|86.5419|86.7387|2231800|     1.05|         0.0| RY.TO|\n",
            "|2020-01-27|85.7465|86.6568|85.6153|86.3943|3384500|      0.0|         0.0| RY.TO|\n",
            "|2020-01-28|86.6321|86.9602|86.4025|86.6813|5561800|      0.0|         0.0| RY.TO|\n",
            "|2020-01-29|86.5255|87.1078|86.5255| 86.747|4934500|      0.0|         0.0| RY.TO|\n",
            "+----------+-------+-------+-------+-------+-------+---------+------------+------+\n",
            "only showing top 20 rows\n",
            "\n"
          ]
        }
      ],
      "source": [
        "# Read Silver File\n",
        "stock_fetcher.read_parquet(tickers, silver_path)\n",
        "\n",
        "for each in tickers:\n",
        "  stock_fetcher.data[each].show()"
      ]
    },
    {
      "cell_type": "code",
      "execution_count": 12,
      "metadata": {
        "id": "kwdEuJ_OFYki"
      },
      "outputs": [],
      "source": [
        "df_gold = {}\n",
        "for ticker, df in stock_fetcher.data.items():\n",
        "  df_ticker = stock_fetcher.create_gold(df)\n",
        "  df_gold[ticker] = df_ticker"
      ]
    },
    {
      "cell_type": "code",
      "execution_count": 13,
      "metadata": {
        "colab": {
          "base_uri": "https://localhost:8080/"
        },
        "id": "SVamOghrHDm8",
        "outputId": "101ddcd2-9618-4aba-9f10-a1b6d047fe75"
      },
      "outputs": [
        {
          "name": "stdout",
          "output_type": "stream",
          "text": [
            "root\n",
            " |-- book_date: date (nullable = true)\n",
            " |-- open: double (nullable = true)\n",
            " |-- high: double (nullable = true)\n",
            " |-- low: double (nullable = true)\n",
            " |-- close: double (nullable = true)\n",
            " |-- volume: integer (nullable = true)\n",
            " |-- dividends: double (nullable = true)\n",
            " |-- ticker: string (nullable = true)\n",
            " |-- average_price: double (nullable = true)\n",
            " |-- daily_return_percentage: double (nullable = true)\n",
            " |-- growth: double (nullable = true)\n",
            " |-- cumulative_growth: double (nullable = true)\n",
            " |-- volatility_30days: double (nullable = true)\n",
            " |-- dividend_yield_percentage: double (nullable = true)\n",
            " |-- 52week_high: double (nullable = true)\n",
            " |-- 52week_low: double (nullable = true)\n",
            " |-- ma50d: double (nullable = true)\n",
            " |-- ma200d: double (nullable = true)\n",
            " |-- vwap: double (nullable = true)\n",
            "\n"
          ]
        }
      ],
      "source": [
        "df_gold['BMO.TO'].printSchema()"
      ]
    },
    {
      "cell_type": "code",
      "execution_count": 14,
      "metadata": {
        "colab": {
          "base_uri": "https://localhost:8080/"
        },
        "id": "RSySIyDzLRIh",
        "outputId": "0f272b85-965a-451e-cde4-206548a2f452"
      },
      "outputs": [
        {
          "name": "stdout",
          "output_type": "stream",
          "text": [
            "+----------+-------+-------+-------+-------+-------+---------+------+-------------+-----------------------+------+-----------------+-----------------+-------------------------+-----------+----------+-------+-------+-------+\n",
            "| book_date|   open|   high|    low|  close| volume|dividends|ticker|average_price|daily_return_percentage|growth|cumulative_growth|volatility_30days|dividend_yield_percentage|52week_high|52week_low|  ma50d| ma200d|   vwap|\n",
            "+----------+-------+-------+-------+-------+-------+---------+------+-------------+-----------------------+------+-----------------+-----------------+-------------------------+-----------+----------+-------+-------+-------+\n",
            "|2020-01-02|79.7502|79.7738|79.1266|79.6002| 753600|      0.0|BMO.TO|      79.5627|                    0.0|   1.0|              0.0|             NULL|                      0.0|    79.7738|   79.1266|79.6002|79.6002|79.5627|\n",
            "|2020-01-03|79.0082|79.4581|78.7241|79.4029|1473000|      0.0|BMO.TO|      79.1483|                -0.2479|0.9975|          -0.0025|           0.1753|                      0.0|    79.7738|   78.7241|79.5016|79.5016|79.2886|\n",
            "|2020-01-06|79.0161|79.3634|78.9846|79.3397|1147500|      0.0|BMO.TO|       79.176|                -0.0796|0.9992|          -0.0033|           0.1266|                      0.0|    79.7738|   78.7241|79.4476|79.4476|79.2503|\n",
            "|2020-01-07|79.3634|79.7423| 79.174|79.2056| 702000|      0.0|BMO.TO|      79.3713|                 -0.169|0.9983|           -0.005|           0.1076|                      0.0|    79.7738|   78.7241|79.3871|79.3871|79.2711|\n",
            "|2020-01-08|79.3397|80.2159| 79.324|79.7818|1088400|      0.0|BMO.TO|      79.6653|                 0.7275|1.0073|           0.0023|           0.3921|                      0.0|    80.2159|   78.7241| 79.466| 79.466|79.3542|\n",
            "|2020-01-09|80.1133|80.3264|79.8212|80.0738|1683900|      0.0|BMO.TO|      80.0837|                  0.366|1.0037|            0.006|           0.3742|                      0.0|    80.3264|   78.7241|79.5673|79.5673|79.5336|\n",
            "|2020-01-10|80.0264|80.1685| 79.687|80.0501|1243400|      0.0|BMO.TO|       79.983|                -0.0296|0.9997|           0.0057|           0.3451|                      0.0|    80.3264|   78.7241|79.6363|79.6363|79.6026|\n",
            "|2020-01-13|80.0501|80.6657|79.8212|80.6657|4100400|      0.0|BMO.TO|      80.3007|                  0.769|1.0077|           0.0134|           0.4015|                      0.0|    80.6657|   78.7241| 79.765| 79.765|79.8374|\n",
            "|2020-01-14|80.6737|81.1235|80.5079|81.0683|1923500|      0.0|BMO.TO|      80.8434|                 0.4991| 1.005|           0.0185|           0.3916|                      0.0|    81.1235|   78.7241|79.9098|79.9098|79.9745|\n",
            "|2020-01-15|81.0209|81.4314| 81.013|81.3051|1729600|      0.0|BMO.TO|      81.1926|                 0.2921|1.0029|           0.0214|           0.3702|                      0.0|    81.4314|   78.7241|80.0493|80.0493|80.1074|\n",
            "|2020-01-16|81.4393|81.6839|81.3051|81.5813|1809800|      0.0|BMO.TO|      81.5024|                 0.3397|1.0034|           0.0249|           0.3533|                      0.0|    81.6839|   78.7241|80.1886|80.1886|80.2504|\n",
            "|2020-01-17|81.6918|81.9681|81.6129|81.9286|1545900|      0.0|BMO.TO|      81.8004|                 0.4257|1.0043|           0.0293|           0.3418|                      0.0|    81.9681|   78.7241|80.3336|80.3336|80.3752|\n",
            "|2020-01-20|81.7707|82.4416|81.6918|81.6918|1591500|      0.0|BMO.TO|       81.899|                 -0.289|0.9971|           0.0263|           0.3588|                      0.0|    82.4416|   78.7241|80.4381|80.4381|80.4919|\n",
            "|2020-01-21|81.8891|82.4338|81.6997|82.3548|1384400|      0.0|BMO.TO|      82.0944|                 0.8116|1.0081|           0.0347|           0.3815|                      0.0|    82.4416|   78.7241| 80.575| 80.575|80.5919|\n",
            "|2020-01-22|82.3548|82.6784|82.1417|82.4022|1100600|      0.0|BMO.TO|      82.3943|                 0.0576|1.0006|           0.0353|           0.3707|                      0.0|    82.6784|   78.7241|80.6968|80.6968|80.6771|\n",
            "|2020-01-23|82.3627|82.5521|81.8576|82.2838|2397400|      0.0|BMO.TO|      82.2641|                -0.1437|0.9986|           0.0338|           0.3702|                      0.0|    82.6784|   78.7241| 80.796| 80.796|80.8253|\n",
            "|2020-01-24|82.3548|82.5522|81.9128|82.1023|1888100|      0.0|BMO.TO|      82.2305|                -0.2206|0.9978|           0.0315|           0.3733|                      0.0|    82.6784|   78.7241|80.8728|80.8728|80.9216|\n",
            "|2020-01-27|81.3366|81.8023|81.2972|81.6129|4184800|      0.0|BMO.TO|      81.5123|                -0.5961| 0.994|           0.0254|            0.406|                      0.0|    82.6784|   78.7241|80.9139|80.9139|80.9994|\n",
            "|2020-01-28|81.8181|82.1102|81.4472|81.8655|4582100|      0.0|BMO.TO|      81.8103|                 0.3095|1.0031|           0.0285|           0.3965|                      0.0|    82.6784|   78.7241| 80.964| 80.964|81.1017|\n",
            "|2020-01-29|81.8339|82.0549|81.5577|81.6839|3678300|      0.0|BMO.TO|      81.7826|                -0.2218|0.9978|           0.0263|           0.3947|                      0.0|    82.6784|   78.7241|   81.0|   81.0|81.1643|\n",
            "+----------+-------+-------+-------+-------+-------+---------+------+-------------+-----------------------+------+-----------------+-----------------+-------------------------+-----------+----------+-------+-------+-------+\n",
            "only showing top 20 rows\n",
            "\n"
          ]
        }
      ],
      "source": [
        "df_gold['BMO.TO'].show()"
      ]
    },
    {
      "cell_type": "code",
      "execution_count": 15,
      "metadata": {
        "id": "AsuWmHUulDkY"
      },
      "outputs": [],
      "source": [
        "# Save gold parquet\n",
        "stock_fetcher.save_parquet(df_gold, gold_path)"
      ]
    },
    {
      "cell_type": "markdown",
      "metadata": {
        "id": "GqI2O3xgoCBJ"
      },
      "source": [
        "Prepare gold parquet for export to data visualization"
      ]
    },
    {
      "cell_type": "code",
      "execution_count": 16,
      "metadata": {
        "id": "S58PMc_4oLVc"
      },
      "outputs": [],
      "source": [
        "# Read Parquet and transform to csv\n",
        "stock_fetcher.read_parquet(tickers, gold_path)\n",
        "final_file = None\n",
        "for each in tickers:\n",
        "  if final_file is None:\n",
        "    final_file = stock_fetcher.data[each]\n",
        "  else:\n",
        "    final_file = final_file.union(stock_fetcher.data[each])\n",
        "\n",
        "if final_file is not None:\n",
        "    df_pd = final_file.toPandas()\n",
        "    df_pd.to_csv(\"gold_file.csv\", index=False)"
      ]
    }
  ],
  "metadata": {
    "colab": {
      "provenance": []
    },
    "kernelspec": {
      "display_name": "Python 3",
      "name": "python3"
    },
    "language_info": {
      "name": "python"
    }
  },
  "nbformat": 4,
  "nbformat_minor": 0
}
